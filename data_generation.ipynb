{
 "cells": [
  {
   "cell_type": "code",
   "execution_count": 9,
   "metadata": {},
   "outputs": [
    {
     "name": "stdout",
     "output_type": "stream",
     "text": [
      "Collecting faker\n",
      "  Using cached Faker-18.7.0-py3-none-any.whl (1.7 MB)\n",
      "Requirement already satisfied: numpy in c:\\python311\\lib\\site-packages (1.24.3)\n",
      "Collecting pandas\n",
      "  Using cached pandas-2.0.1-cp311-cp311-win_amd64.whl (10.6 MB)\n",
      "Requirement already satisfied: python-dateutil>=2.4 in c:\\users\\pb201100\\appdata\\roaming\\python\\python311\\site-packages (from faker) (2.8.2)\n",
      "Requirement already satisfied: pytz>=2020.1 in c:\\python311\\lib\\site-packages (from pandas) (2023.3)\n",
      "Requirement already satisfied: tzdata>=2022.1 in c:\\python311\\lib\\site-packages (from pandas) (2023.3)\n",
      "Requirement already satisfied: six>=1.5 in c:\\users\\pb201100\\appdata\\roaming\\python\\python311\\site-packages (from python-dateutil>=2.4->faker) (1.16.0)\n",
      "Installing collected packages: pandas, faker\n"
     ]
    },
    {
     "name": "stderr",
     "output_type": "stream",
     "text": [
      "  WARNING: Failed to write executable - trying to use .deleteme logic\n",
      "ERROR: Could not install packages due to an OSError: [WinError 2] Le fichier spécifié est introuvable: 'c:\\\\python311\\\\Scripts\\\\faker.exe' -> 'c:\\\\python311\\\\Scripts\\\\faker.exe.deleteme'\n",
      "\n",
      "\n",
      "[notice] A new release of pip available: 22.3.1 -> 23.1.2\n",
      "[notice] To update, run: python.exe -m pip install --upgrade pip\n"
     ]
    }
   ],
   "source": [
    "!python3.11 -m pip install faker numpy pandas"
   ]
  },
  {
   "cell_type": "code",
   "execution_count": 2,
   "metadata": {},
   "outputs": [],
   "source": [
    "from faker import Faker\n",
    "import numpy as np\n",
    "import pandas as pd\n",
    "import random\n",
    "import datetime\n",
    "fake = Faker(\"fr-FR\")"
   ]
  },
  {
   "cell_type": "code",
   "execution_count": 2,
   "metadata": {},
   "outputs": [],
   "source": [
    "def list_to_sql(liste,table):\n",
    "    strings = []\n",
    "    for e in liste:\n",
    "        strings.append(f\"INSERT INTO {table} ({', '.join(e.keys())}) VALUES {str(tuple(e.values()))};\")\n",
    "    return \"\\n\".join(strings)"
   ]
  },
  {
   "cell_type": "code",
   "execution_count": 11,
   "metadata": {},
   "outputs": [],
   "source": [
    "clients = []\n",
    "for i in range(0,1000):\n",
    "    client = {\"id_client\":fake.pystr(),\"prenom\":fake.first_name(),\"nom\":fake.last_name(),\"mdp\":fake.password(),\"tel\":fake.phone_number(),\"adresse_factu\":fake.address(),\"num_carte\":fake.credit_card_number(),\"statut\":\"BASIC\"}\n",
    "    client[\"mail\"] = client[\"prenom\"]+\".\"+client[\"nom\"]+\"@gmail.com\"\n",
    "    clients.append(client)\n",
    "\n",
    "produits = [\n",
    "    {\"id_produit\":0,\"nom\":\"Gerbera\",\"prix\":5,\"disponibilite\":\"A l'année\"},\n",
    "    {\"id_produit\":1,\"nom\":\"Ginger\",\"prix\":4,\"disponibilite\":\"A l'année\"},\n",
    "    {\"id_produit\":2,\"nom\":\"Glaïeul\",\"prix\":1,\"disponibilite\":\"Mai à novembre\"},\n",
    "    {\"id_produit\":3,\"nom\":\"Marguerite\",\"prix\":2.25,\"disponibilite\":\"A l'année\"},\n",
    "    {\"id_produit\":4,\"nom\":\"Rose rouge\",\"prix\":2.5,\"disponibilite\":\"A l'année\"}\n",
    "]\n",
    "\n",
    "bouquets_standards = [\n",
    "    {\"id_bs\":0,\"nom\":\"Gros Merci\",\"prix\":45,\"composition\":\"Arrangement floral avec marguerites et verdure\",\"categorie\":\"Toute occasion\"},\n",
    "    {\"id_bs\":1,\"nom\":\"L'amoureux\",\"prix\":65,\"composition\":\"Arrangement floral avec roses blanches et roses\",\"categorie\":\"St-Valentin\"},\n",
    "    {\"id_bs\":2,\"nom\":\"L'Exotique\",\"prix\":40,\"composition\":\"Arrangement floral avec ginger, oiseaux du paradis, roses et genet\",\"categorie\":\"Toute occasion\"},\n",
    "    {\"id_bs\":3,\"nom\":\"Maman\",\"prix\":80,\"composition\":\"Arrangement floral avec gerbera, roses blanches, lys et alstroméria\",\"categorie\":\"Fête des mères\"},\n",
    "    {\"id_bs\":4,\"nom\":\"Vive la mariée\",\"prix\":120,\"composition\":\"Arrangement floral avec lys et orchidées\",\"categorie\":\"Mariage\"}\n",
    "]\n",
    "\n",
    "boutiques = []\n",
    "for i in range(10):\n",
    "    boutiques.append({\"id_boutique\":fake.pystr(),\"adresse\":fake.address()})\n",
    "\n",
    "commandes = []\n",
    "bouquets_persos = []\n",
    "composition_bouquets = []\n",
    "\n",
    "for i in range(0,2000):\n",
    "\n",
    "\n",
    "    prix_tot=0\n",
    "\n",
    "    if np.random.randint(0,2)==1:\n",
    "        bs = np.random.choice(bouquets_standards,1)[0]\n",
    "        prix_tot = bs[\"prix\"]\n",
    "        id_bouquet = bs[\"id_bs\"]\n",
    "        est_standard=True\n",
    "    else: \n",
    "        produits_bouquet = np.random.choice([x for x in produits],np.random.randint(1,4), replace=False)\n",
    "        bouquet_perso = {\"id_bp\":fake.pystr(),\"description_bp\":\"Arrangement floral avec \"+\", \".join([x[\"nom\"] for x in produits_bouquet]), \"prix_max\":round(np.random.randint(1,20))*10}\n",
    "        bouquets_persos.append(bouquet_perso)\n",
    "        id_bouquet = bouquet_perso[\"id_bp\"]\n",
    "\n",
    "        for produit in produits_bouquet:\n",
    "            composition_bouquet = {\"id_bp\":id_bouquet,\"id_produit\":produit[\"id_produit\"],\"quantite\":round((bouquet_perso[\"prix_max\"]/len(produits_bouquet))/produit[\"prix\"])}\n",
    "            composition_bouquets.append(composition_bouquet)\n",
    "            prix_tot+=produit[\"prix\"]*composition_bouquet[\"quantite\"]\n",
    "        est_standard=False\n",
    "\n",
    "    commande = {\"id_commande\":fake.pystr(),\"id_client\":np.random.choice(clients,1)[0][\"id_client\"],\"id_boutique\":random.choice(boutiques)[\"id_boutique\"],\"id_bouquet\":id_bouquet,\"est_standard\":est_standard,\"date_commande\":fake.date_between(datetime.datetime.strptime(\"2022/01/01\",\"%Y/%m/%d\"))}\n",
    "    \n",
    "    if commande[\"est_standard\"]:\n",
    "        commande[\"etat\"] = random.choice([\"CC\",\"VINV\",\"CAL\",\"CL\"])\n",
    "    else: \n",
    "        commande[\"etat\"] = random.choice([\"CC\",\"CPAV\",\"CAL\",\"CL\"])\n",
    "\n",
    "    if commande[\"etat\"]==\"CL\":\n",
    "        commande[\"date_livraison\"] = (commande[\"date_commande\"]+datetime.timedelta(days=np.random.randint(20))).strftime(\"%Y/%m/%d\")\n",
    "    commande[\"date_commande\"] = commande[\"date_commande\"].strftime(\"%Y/%m/%d\")\n",
    "    commande[\"prix_tot\"] = prix_tot\n",
    "    commandes.append(commande)\n",
    "\n",
    "\n",
    "stocks = []\n",
    "for boutique in boutiques:\n",
    "    for produit in produits:\n",
    "        stocks.append({\"id_boutique\":boutique[\"id_boutique\"],\"id_produit\":produit[\"id_produit\"],\"quantite\":np.random.randint(500)})"
   ]
  },
  {
   "cell_type": "code",
   "execution_count": 12,
   "metadata": {},
   "outputs": [],
   "source": [
    "sql_clients = list_to_sql(clients,\"client\")\n",
    "sql_produits = list_to_sql(produits,\"produit\")\n",
    "sql_bouquet_standards = list_to_sql(bouquets_standards,\"bouquet_standard\")\n",
    "sql_bouquet_perso = list_to_sql(bouquets_persos,\"bouquet_perso\")\n",
    "sql_commandes = list_to_sql(commandes,\"commande\").replace(\", None\",\", null\")\n",
    "sql_composition_bouquets = list_to_sql(composition_bouquets,\"composition_bouquet\")\n",
    "sql_boutiques = list_to_sql(boutiques,\"boutique\")\n",
    "sql_stocks = list_to_sql(stocks,\"stock\")"
   ]
  },
  {
   "cell_type": "code",
   "execution_count": 13,
   "metadata": {},
   "outputs": [],
   "source": [
    "sql = \"use fleur;\\n\\n\"+\"\\n\\n\".join([sql_clients,sql_produits,sql_bouquet_standards,sql_bouquet_perso,sql_boutiques,sql_commandes,sql_composition_bouquets,sql_stocks])\n",
    "with open(\"data.sql\",\"w+\") as f:  \n",
    "    f.write(sql)"
   ]
  }
 ],
 "metadata": {
  "kernelspec": {
   "display_name": "Python 3",
   "language": "python",
   "name": "python3"
  },
  "language_info": {
   "codemirror_mode": {
    "name": "ipython",
    "version": 3
   },
   "file_extension": ".py",
   "mimetype": "text/x-python",
   "name": "python",
   "nbconvert_exporter": "python",
   "pygments_lexer": "ipython3",
   "version": "3.11.2"
  },
  "orig_nbformat": 4
 },
 "nbformat": 4,
 "nbformat_minor": 2
}
